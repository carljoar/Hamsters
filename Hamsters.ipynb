{
 "cells": [
  {
   "cell_type": "markdown",
   "id": "ad1e7540",
   "metadata": {},
   "source": [
    "# Hamsterlöpning\n",
    "Du ska delta i en tävling för hamsteruppfödare, där varje uppfödare får ta med precis 6 hamstrar. På tävlingen får alla uppfödare _kosttillskott_ i form av vitamindroppar av en sponsor. De får varje dag 10 droppar per hamster. \n",
    "\n",
    "## Regler\n",
    "Hamstrarna tävlar sedan i löpning. Först till mål vinner. Under en dag spelar uppfödarna en mot en. I varje lopp slår vardera uppfödare en tärning för att välja ut vilken hamster som ska få tävla.\n",
    "\n",
    "Däremot säger ingen något om hur dropparna kan fördelas. Till exempel kan en uppfödare välja att ge alla dropparna till en hamster. Eller så kan alla få lika många.\n",
    "\n",
    "## Din uppgift\n",
    "Vi ska undersöka vilken taktik som är bäst i fråga om hur vitamindropparna bör fördelas. Du har totalt 60 droppar. Vi antar att\n",
    " - om två hamstrar möts, så vinner den som fått fler vitamindroppar\n",
    " - om två hamstrar har fått lika många vitamindroppar blir det oavgjort\n",
    "\n",
    "__Börja med att skriva in de olika strategierna:__"
   ]
  },
  {
   "cell_type": "code",
   "execution_count": 1,
   "id": "473387a0",
   "metadata": {},
   "outputs": [],
   "source": [
    "mat = [[10,10,10,10,10,10],\n",
    "       [ 3, 5, 7,13,15,17]]"
   ]
  },
  {
   "cell_type": "markdown",
   "id": "da97d479",
   "metadata": {},
   "source": [
    "Bestäm också hur många gånger två uppfödare ska tävla mot varandra:"
   ]
  },
  {
   "cell_type": "code",
   "execution_count": 2,
   "id": "f2ce7c54",
   "metadata": {},
   "outputs": [],
   "source": [
    "num_iter = 10"
   ]
  },
  {
   "cell_type": "code",
   "execution_count": 6,
   "id": "728b60c6",
   "metadata": {},
   "outputs": [],
   "source": [
    "import random\n",
    "import time\n",
    "\n",
    "N = len(mat)\n",
    "antal = len(mat[0])\n",
    "points = [0] * N"
   ]
  },
  {
   "cell_type": "markdown",
   "id": "48f1466d",
   "metadata": {},
   "source": [
    "Starta turneringen:"
   ]
  },
  {
   "cell_type": "code",
   "execution_count": 7,
   "id": "1274eb1b",
   "metadata": {},
   "outputs": [
    {
     "name": "stdout",
     "output_type": "stream",
     "text": [
      " Player 1: 5,    Player 2: 5"
     ]
    }
   ],
   "source": [
    "points = [0] * N\n",
    "\n",
    "print(\"\",\"Player 1: 0,    Player 2: 0\", end=\"\")\n",
    "\n",
    "for player1 in range(0,N):\n",
    "    for player2 in range(player1+1,N):\n",
    "        for iter in range(0,num_iter):\n",
    "            time.sleep(1)\n",
    "            hamster1 = mat[player1][random.randint(0,antal-1)]\n",
    "            hamster2 = mat[player2][random.randint(0,antal-1)]\n",
    "            if hamster2<hamster1:\n",
    "                points[player1] += 1\n",
    "            if hamster1<hamster2:\n",
    "                points[player2] += 1\n",
    "            print(\"\\r\", \"Player 1: %d,    Player 2: %d\" % (points[player1],points[player2]), end=\"\")\n",
    "print(\"Done!\\n\")"
   ]
  },
  {
   "cell_type": "markdown",
   "id": "f22e4bf2",
   "metadata": {},
   "source": [
    "## Uppgifter\n",
    "1. Utred vilka strategier som funkar bäst.\n",
    "2. Analysera resultaten av många turneringar, till exempel med ett datorprogram."
   ]
  }
 ],
 "metadata": {
  "kernelspec": {
   "display_name": "Python 3 (ipykernel)",
   "language": "python",
   "name": "python3"
  },
  "language_info": {
   "codemirror_mode": {
    "name": "ipython",
    "version": 3
   },
   "file_extension": ".py",
   "mimetype": "text/x-python",
   "name": "python",
   "nbconvert_exporter": "python",
   "pygments_lexer": "ipython3",
   "version": "3.9.7"
  }
 },
 "nbformat": 4,
 "nbformat_minor": 5
}
